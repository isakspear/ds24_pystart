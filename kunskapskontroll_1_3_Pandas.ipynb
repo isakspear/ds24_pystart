{
 "cells": [
  {
   "cell_type": "markdown",
   "id": "b540290b",
   "metadata": {},
   "source": [
    "# Pandas\n",
    "Read \"10 minutes to Pandas\": https://pandas.pydata.org/docs/user_guide/10min.html before solving the exercises.\n",
    "We will use the data set \"cars_data\" in the exercises below. "
   ]
  },
  {
   "cell_type": "code",
   "execution_count": null,
   "id": "fa266ee4",
   "metadata": {},
   "outputs": [],
   "source": [
    "# Importing Pandas. \n",
    "import pandas as pd"
   ]
  },
  {
   "cell_type": "markdown",
   "id": "addb587b",
   "metadata": {},
   "source": [
    "### Explain what a CSV file is."
   ]
  },
  {
   "cell_type": "code",
   "execution_count": null,
   "id": "6047c36f",
   "metadata": {},
   "outputs": [],
   "source": [
    "a CSV file uses plain text format too store tabular data, it organises data into collums and rows."
   ]
  },
  {
   "cell_type": "markdown",
   "id": "5c61e5d9",
   "metadata": {},
   "source": [
    "### Load the data set \"cars_data\" through Pandas. "
   ]
  },
  {
   "cell_type": "code",
   "execution_count": null,
   "id": "91923010",
   "metadata": {},
   "outputs": [],
   "source": [
    "# When reading in the data, either you have the data file in the same folder as your python script\n",
    "# or in a seperate folder.\n",
    "\n",
    "# Code below can be ran if you have the data file in the same folder as the script\n",
    "# cars = pd.read_csv(\"cars_data.csv\")\n",
    "\n",
    "# Code below can be ran if you have the data file in another script. \n",
    "# Notice, you must change the path according to where you have the data in your computer. \n",
    "# pd.read_csv(r'C:\\Users\\Antonio Prgomet\\Documents\\ec_utbildning\\kursframstallning\\ds23\\python_stat\\exercises\\numpy_matplot_pandas\\cars_data.csv')"
   ]
  },
  {
   "cell_type": "markdown",
   "id": "b9ac1d06",
   "metadata": {},
   "source": [
    "### Print the first 10 rows of the data. "
   ]
  },
  {
   "cell_type": "code",
   "execution_count": 1,
   "id": "2886ff8e",
   "metadata": {},
   "outputs": [
    {
     "name": "stdout",
     "output_type": "stream",
     "text": [
      "   index      company   body-style  wheel-base  length engine-type  \\\n",
      "0      0  alfa-romero  convertible        88.6   168.8        dohc   \n",
      "1      1  alfa-romero  convertible        88.6   168.8        dohc   \n",
      "2      2  alfa-romero    hatchback        94.5   171.2        ohcv   \n",
      "3      3         audi        sedan        99.8   176.6         ohc   \n",
      "4      4         audi        sedan        99.4   176.6         ohc   \n",
      "5      5         audi        sedan        99.8   177.3         ohc   \n",
      "6      6         audi        wagon       105.8   192.7         ohc   \n",
      "7      9          bmw        sedan       101.2   176.8         ohc   \n",
      "8     10          bmw        sedan       101.2   176.8         ohc   \n",
      "9     11          bmw        sedan       101.2   176.8         ohc   \n",
      "\n",
      "  num-of-cylinders  horsepower  average-mileage    price  \n",
      "0             four         111               21  13495.0  \n",
      "1             four         111               21  16500.0  \n",
      "2              six         154               19  16500.0  \n",
      "3             four         102               24  13950.0  \n",
      "4             five         115               18  17450.0  \n",
      "5             five         110               19  15250.0  \n",
      "6             five         110               19  18920.0  \n",
      "7             four         101               23  16430.0  \n",
      "8             four         101               23  16925.0  \n",
      "9              six         121               21  20970.0  \n"
     ]
    }
   ],
   "source": [
    "import pandas as pd\n",
    "\n",
    "\n",
    "cars = pd.read_csv(\"cars_data.csv\")\n",
    "\n",
    "\n",
    "print(cars.head(10))"
   ]
  },
  {
   "cell_type": "markdown",
   "id": "ec02774b",
   "metadata": {},
   "source": [
    "### Print the last 5 rows. "
   ]
  },
  {
   "cell_type": "code",
   "execution_count": 3,
   "id": "437d158f",
   "metadata": {},
   "outputs": [
    {
     "name": "stdout",
     "output_type": "stream",
     "text": [
      "\n",
      "Last 5 Rows of the DataFrame:\n",
      "    index     company body-style  wheel-base  length engine-type  \\\n",
      "56     81  volkswagen      sedan        97.3   171.7         ohc   \n",
      "57     82  volkswagen      sedan        97.3   171.7         ohc   \n",
      "58     86  volkswagen      sedan        97.3   171.7         ohc   \n",
      "59     87       volvo      sedan       104.3   188.8         ohc   \n",
      "60     88       volvo      wagon       104.3   188.8         ohc   \n",
      "\n",
      "   num-of-cylinders  horsepower  average-mileage    price  \n",
      "56             four          85               27   7975.0  \n",
      "57             four          52               37   7995.0  \n",
      "58             four         100               26   9995.0  \n",
      "59             four         114               23  12940.0  \n",
      "60             four         114               23  13415.0  \n"
     ]
    }
   ],
   "source": [
    "import pandas as pd\n",
    "\n",
    "\n",
    "cars = pd.read_csv(\"cars_data.csv\")\n",
    "\n",
    "\n",
    "print(\"\\nLast 5 Rows of the DataFrame:\")\n",
    "print(cars.tail())\n"
   ]
  },
  {
   "cell_type": "markdown",
   "id": "e0cd9329",
   "metadata": {},
   "source": [
    "### By using the info method, check how many non-null rows each column have. "
   ]
  },
  {
   "cell_type": "code",
   "execution_count": 4,
   "id": "efe71f5f",
   "metadata": {},
   "outputs": [
    {
     "name": "stdout",
     "output_type": "stream",
     "text": [
      "<class 'pandas.core.frame.DataFrame'>\n",
      "RangeIndex: 61 entries, 0 to 60\n",
      "Data columns (total 10 columns):\n",
      " #   Column            Non-Null Count  Dtype  \n",
      "---  ------            --------------  -----  \n",
      " 0   index             61 non-null     int64  \n",
      " 1   company           61 non-null     object \n",
      " 2   body-style        61 non-null     object \n",
      " 3   wheel-base        61 non-null     float64\n",
      " 4   length            61 non-null     float64\n",
      " 5   engine-type       61 non-null     object \n",
      " 6   num-of-cylinders  61 non-null     object \n",
      " 7   horsepower        61 non-null     int64  \n",
      " 8   average-mileage   61 non-null     int64  \n",
      " 9   price             58 non-null     float64\n",
      "dtypes: float64(3), int64(3), object(4)\n",
      "memory usage: 4.9+ KB\n",
      "None\n"
     ]
    }
   ],
   "source": [
    "import pandas as pd\n",
    "\n",
    "cars = pd.read_csv(\"cars_data.csv\")\n",
    "\n",
    "print(cars.info())"
   ]
  },
  {
   "cell_type": "markdown",
   "id": "887f8c9c",
   "metadata": {},
   "source": [
    "### If any column has a missing value, drop the entire row. Notice, the operation should be inplace meaning you change the dataframe itself."
   ]
  },
  {
   "cell_type": "code",
   "execution_count": 5,
   "id": "60b660dc",
   "metadata": {},
   "outputs": [
    {
     "name": "stdout",
     "output_type": "stream",
     "text": [
      "Initial Dataframe:\n",
      "   index      company   body-style  wheel-base  length engine-type  \\\n",
      "0      0  alfa-romero  convertible        88.6   168.8        dohc   \n",
      "1      1  alfa-romero  convertible        88.6   168.8        dohc   \n",
      "2      2  alfa-romero    hatchback        94.5   171.2        ohcv   \n",
      "3      3         audi        sedan        99.8   176.6         ohc   \n",
      "4      4         audi        sedan        99.4   176.6         ohc   \n",
      "\n",
      "  num-of-cylinders  horsepower  average-mileage    price  \n",
      "0             four         111               21  13495.0  \n",
      "1             four         111               21  16500.0  \n",
      "2              six         154               19  16500.0  \n",
      "3             four         102               24  13950.0  \n",
      "4             five         115               18  17450.0  \n",
      "Dataframe info Before dropping rows:\n",
      "<class 'pandas.core.frame.DataFrame'>\n",
      "RangeIndex: 61 entries, 0 to 60\n",
      "Data columns (total 10 columns):\n",
      " #   Column            Non-Null Count  Dtype  \n",
      "---  ------            --------------  -----  \n",
      " 0   index             61 non-null     int64  \n",
      " 1   company           61 non-null     object \n",
      " 2   body-style        61 non-null     object \n",
      " 3   wheel-base        61 non-null     float64\n",
      " 4   length            61 non-null     float64\n",
      " 5   engine-type       61 non-null     object \n",
      " 6   num-of-cylinders  61 non-null     object \n",
      " 7   horsepower        61 non-null     int64  \n",
      " 8   average-mileage   61 non-null     int64  \n",
      " 9   price             58 non-null     float64\n",
      "dtypes: float64(3), int64(3), object(4)\n",
      "memory usage: 4.9+ KB\n",
      "None\n"
     ]
    }
   ],
   "source": [
    "import pandas as pd \n",
    "\n",
    "cars = pd.read_csv(\"cars_data.csv\")\n",
    "\n",
    "print(\"Initial Dataframe:\")\n",
    "print(cars.head())\n",
    "\n",
    "print(\"Dataframe info Before dropping rows:\")\n",
    "print(cars.info())"
   ]
  },
  {
   "cell_type": "markdown",
   "id": "614eeffe",
   "metadata": {},
   "source": [
    "### Calculate the mean of each numeric column. "
   ]
  },
  {
   "cell_type": "code",
   "execution_count": 10,
   "id": "49e06c7c",
   "metadata": {},
   "outputs": [
    {
     "name": "stdout",
     "output_type": "stream",
     "text": [
      "Cleaned DataFrame:\n",
      "   index      company   body-style  wheel-base  length engine-type  \\\n",
      "0      0  alfa-romero  convertible        88.6   168.8        dohc   \n",
      "1      1  alfa-romero  convertible        88.6   168.8        dohc   \n",
      "2      2  alfa-romero    hatchback        94.5   171.2        ohcv   \n",
      "3      3         audi        sedan        99.8   176.6         ohc   \n",
      "4      4         audi        sedan        99.4   176.6         ohc   \n",
      "\n",
      "  num-of-cylinders  horsepower  average-mileage    price  \n",
      "0             four         111               21  13495.0  \n",
      "1             four         111               21  16500.0  \n",
      "2              six         154               19  16500.0  \n",
      "3             four         102               24  13950.0  \n",
      "4             five         115               18  17450.0  \n",
      "\n",
      "Mean of Each Numeric Column (Excluding 'index'):\n",
      "wheel-base            98.62\n",
      "length               173.65\n",
      "horsepower           106.05\n",
      "average-mileage       25.53\n",
      "price              15387.00\n",
      "dtype: float64\n"
     ]
    }
   ],
   "source": [
    "import pandas as pd\n",
    "\n",
    "# Load the dataset\n",
    "cars = pd.read_csv(\"cars_data.csv\")\n",
    "\n",
    "# Drop rows with any missing values inplace\n",
    "cars.dropna(inplace=True)\n",
    "\n",
    "# Display the first few rows of the cleaned DataFrame\n",
    "print(\"Cleaned DataFrame:\")\n",
    "print(cars.head())\n",
    "\n",
    "# Select only numeric columns (excluding 'index' if it's just an identifier)\n",
    "numeric_columns = cars.select_dtypes(include=['number']).columns.drop('index', errors='ignore')\n",
    "\n",
    "# Calculate the mean of each numeric column\n",
    "mean_values = cars[numeric_columns].mean().round(2)  # Rounded to 2 decimal places for readability\n",
    "\n",
    "# Print the mean values\n",
    "print(\"\\nMean of Each Numeric Column (Excluding 'index'):\")\n",
    "print(mean_values)\n"
   ]
  },
  {
   "cell_type": "markdown",
   "id": "f4f79bfd",
   "metadata": {},
   "source": [
    "### Select the rows where the column \"company\" is equal to 'honda'. "
   ]
  },
  {
   "cell_type": "code",
   "execution_count": 11,
   "id": "1e373079",
   "metadata": {},
   "outputs": [
    {
     "name": "stdout",
     "output_type": "stream",
     "text": [
      "Honda Cars:\n",
      "    index company body-style  wheel-base  length engine-type num-of-cylinders  \\\n",
      "18     27   honda      wagon        96.5   157.1         ohc             four   \n",
      "19     28   honda      sedan        96.5   175.4         ohc             four   \n",
      "20     29   honda      sedan        96.5   169.1         ohc             four   \n",
      "\n",
      "    horsepower  average-mileage    price  \n",
      "18          76               30   7295.0  \n",
      "19         101               24  12945.0  \n",
      "20         100               25  10345.0  \n"
     ]
    }
   ],
   "source": [
    "honda_cars = cars[cars['company'] == 'honda']\n",
    "\n",
    "\n",
    "print(\"Honda Cars:\")\n",
    "print(honda_cars.head())"
   ]
  },
  {
   "cell_type": "markdown",
   "id": "0a3543eb",
   "metadata": {},
   "source": [
    "### Sort the data set by price in descending order. This should *not* be an inplace operation. "
   ]
  },
  {
   "cell_type": "code",
   "execution_count": 14,
   "id": "8455abaa",
   "metadata": {},
   "outputs": [
    {
     "name": "stdout",
     "output_type": "stream",
     "text": [
      "cleaned dataframe:\n",
      "   index      company   body-style  wheel-base  length engine-type  \\\n",
      "0      0  alfa-romero  convertible        88.6   168.8        dohc   \n",
      "1      1  alfa-romero  convertible        88.6   168.8        dohc   \n",
      "2      2  alfa-romero    hatchback        94.5   171.2        ohcv   \n",
      "3      3         audi        sedan        99.8   176.6         ohc   \n",
      "4      4         audi        sedan        99.4   176.6         ohc   \n",
      "\n",
      "  num-of-cylinders  horsepower  average-mileage    price  \n",
      "0             four         111               21  13495.0  \n",
      "1             four         111               21  16500.0  \n",
      "2              six         154               19  16500.0  \n",
      "3             four         102               24  13950.0  \n",
      "4             five         115               18  17450.0  \n",
      "\n",
      "Cars Sorted by Price (Descending):\n",
      "    index        company   body-style  wheel-base  length engine-type  \\\n",
      "35     47  mercedes-benz      hardtop       112.0   199.2        ohcv   \n",
      "11     14            bmw        sedan       103.5   193.8         ohc   \n",
      "34     46  mercedes-benz        sedan       120.9   208.1        ohcv   \n",
      "46     62        porsche  convertible        89.5   168.9        ohcf   \n",
      "12     15            bmw        sedan       110.0   197.0         ohc   \n",
      "\n",
      "   num-of-cylinders  horsepower  average-mileage    price  \n",
      "35            eight         184               14  45400.0  \n",
      "11              six         182               16  41315.0  \n",
      "34            eight         184               14  40960.0  \n",
      "46              six         207               17  37028.0  \n",
      "12              six         182               15  36880.0  \n"
     ]
    }
   ],
   "source": [
    "import pandas as pd\n",
    "\n",
    "cars = pd.read_csv(\"cars_data.csv\")\n",
    "\n",
    "cars.dropna(inplace=True)\n",
    "\n",
    "print(\"cleaned dataframe:\")\n",
    "print(cars.head())\n",
    "\n",
    "sorted_cars = cars.sort_values(by='price', ascending=False)\n",
    "\n",
    "print(\"\\nCars Sorted by Price (Descending):\")\n",
    "print(sorted_cars.head())\n"
   ]
  },
  {
   "cell_type": "markdown",
   "id": "1527f255",
   "metadata": {},
   "source": [
    "### Select the rows where the column \"company\" is equal to any of the values (audi, bmw, porsche)."
   ]
  },
  {
   "cell_type": "code",
   "execution_count": 15,
   "id": "60e300ae",
   "metadata": {},
   "outputs": [
    {
     "name": "stdout",
     "output_type": "stream",
     "text": [
      "Filtered Cars (Audi, BMW, Porsche):\n",
      "   index company body-style  wheel-base  length engine-type num-of-cylinders  \\\n",
      "3      3    audi      sedan        99.8   176.6         ohc             four   \n",
      "4      4    audi      sedan        99.4   176.6         ohc             five   \n",
      "5      5    audi      sedan        99.8   177.3         ohc             five   \n",
      "6      6    audi      wagon       105.8   192.7         ohc             five   \n",
      "7      9     bmw      sedan       101.2   176.8         ohc             four   \n",
      "\n",
      "   horsepower  average-mileage    price  \n",
      "3         102               24  13950.0  \n",
      "4         115               18  17450.0  \n",
      "5         110               19  15250.0  \n",
      "6         110               19  18920.0  \n",
      "7         101               23  16430.0  \n",
      "\n",
      "Unique companies in the filtered DataFrame:\n",
      "['audi' 'bmw' 'porsche']\n",
      "\n",
      "Summary statistics for filtered cars:\n",
      "           index  wheel-base      length  horsepower  average-mileage  \\\n",
      "count  12.000000   12.000000   12.000000   12.000000        12.000000   \n",
      "mean   17.750000  100.366667  180.933333  143.333333        19.000000   \n",
      "std    20.807014    5.891339    9.623960   44.116238         3.074824   \n",
      "min     3.000000   89.500000  168.900000  101.000000        15.000000   \n",
      "25%     5.750000   99.700000  176.600000  108.000000        16.750000   \n",
      "50%    10.500000  101.200000  176.800000  118.000000        18.500000   \n",
      "75%    14.250000  103.500000  189.925000  182.000000        21.500000   \n",
      "max    62.000000  110.000000  197.000000  207.000000        24.000000   \n",
      "\n",
      "              price  \n",
      "count     12.000000  \n",
      "mean   24992.166667  \n",
      "std    10147.518199  \n",
      "min    13950.000000  \n",
      "25%    16801.250000  \n",
      "50%    19945.000000  \n",
      "75%    34741.000000  \n",
      "max    41315.000000  \n"
     ]
    }
   ],
   "source": [
    "import pandas as pd\n",
    "\n",
    "cars = pd.read_csv(\"cars_data.csv\")\n",
    "\n",
    "cars.dropna(inplace=True)\n",
    "\n",
    "cars['company'] = cars['company'].str.strip().str.lower()\n",
    "\n",
    "target_companies = ['audi', 'bmw', 'porsche']\n",
    "\n",
    "filtered_cars = cars[cars['company'].isin(target_companies)]\n",
    "\n",
    "print(\"Filtered Cars (Audi, BMW, Porsche):\")\n",
    "print(filtered_cars.head())\n",
    "\n",
    "num_filtered = filtered_cars.shape[0]\n",
    "\n",
    "unique_companies = filtered_cars['company'].unique()\n",
    "print(\"\\nUnique companies in the filtered DataFrame:\")\n",
    "print(unique_companies)\n",
    "\n",
    "print(\"\\nSummary statistics for filtered cars:\")\n",
    "print(filtered_cars.describe())"
   ]
  },
  {
   "cell_type": "markdown",
   "id": "3ce133eb",
   "metadata": {},
   "source": [
    "### Find the number of cars (rows) for each company. "
   ]
  },
  {
   "cell_type": "code",
   "execution_count": 16,
   "id": "7e6a9d43",
   "metadata": {},
   "outputs": [
    {
     "name": "stdout",
     "output_type": "stream",
     "text": [
      "number of cars per company (using value_counts:)\n",
      "company\n",
      "toyota           7\n",
      "bmw              6\n",
      "mazda            5\n",
      "nissan           5\n",
      "audi             4\n",
      "mercedes-benz    4\n",
      "mitsubishi       4\n",
      "volkswagen       4\n",
      "alfa-romero      3\n",
      "chevrolet        3\n",
      "honda            3\n",
      "jaguar           3\n",
      "dodge            2\n",
      "porsche          2\n",
      "volvo            2\n",
      "isuzu            1\n",
      "Name: count, dtype: int64\n"
     ]
    }
   ],
   "source": [
    "car_counts = cars['company'].value_counts()\n",
    "\n",
    "print(\"number of cars per company (using value_counts:)\")\n",
    "print(car_counts)"
   ]
  },
  {
   "cell_type": "markdown",
   "id": "5beef62f",
   "metadata": {},
   "source": [
    "### Find the maximum price for each company. "
   ]
  },
  {
   "cell_type": "code",
   "execution_count": 21,
   "id": "d91dc8be",
   "metadata": {},
   "outputs": [
    {
     "name": "stdout",
     "output_type": "stream",
     "text": [
      "maximum price per company (using groupby):\n",
      "company\n",
      "alfa-romero      16500.0\n",
      "audi             18920.0\n",
      "bmw              41315.0\n",
      "chevrolet         6575.0\n",
      "dodge             6377.0\n",
      "honda            12945.0\n",
      "isuzu             6785.0\n",
      "jaguar           36000.0\n",
      "mazda            18344.0\n",
      "mercedes-benz    45400.0\n",
      "mitsubishi        8189.0\n",
      "nissan           13499.0\n",
      "porsche          37028.0\n",
      "toyota           15750.0\n",
      "volkswagen        9995.0\n",
      "volvo            13415.0\n",
      "Name: price, dtype: float64\n"
     ]
    }
   ],
   "source": [
    "import pandas as pd\n",
    "\n",
    "cars = pd.read_csv(\"cars_data.csv\")\n",
    "\n",
    "cars.dropna(inplace=True)\n",
    "\n",
    "\n",
    "cars['company'] = cars['company'].str.strip().str.lower()\n",
    "\n",
    "max_price_per_company = cars.groupby('company')['price'].max()\n",
    "\n",
    "print(\"maximum price per company (using groupby):\")\n",
    "print(max_price_per_company)"
   ]
  }
 ],
 "metadata": {
  "kernelspec": {
   "display_name": "base",
   "language": "python",
   "name": "python3"
  },
  "language_info": {
   "codemirror_mode": {
    "name": "ipython",
    "version": 3
   },
   "file_extension": ".py",
   "mimetype": "text/x-python",
   "name": "python",
   "nbconvert_exporter": "python",
   "pygments_lexer": "ipython3",
   "version": "3.12.4"
  }
 },
 "nbformat": 4,
 "nbformat_minor": 5
}
